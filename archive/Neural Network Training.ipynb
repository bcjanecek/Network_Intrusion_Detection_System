{
 "cells": [
  {
   "cell_type": "markdown",
   "metadata": {
    "ExecuteTime": {
     "end_time": "2020-04-15T04:57:21.763849Z",
     "start_time": "2020-04-15T04:57:21.760856Z"
    }
   },
   "source": [
    "# Deep Learning Approach"
   ]
  },
  {
   "cell_type": "markdown",
   "metadata": {},
   "source": [
    "Our final approach will be an artificial neural network. This model will be a \"black box\" approach and will not allow us to determine feature importance, however, artificial neural networks are very powerful algorithms and should be able to compete with our random forest and xgboost classifiers. "
   ]
  },
  {
   "cell_type": "code",
   "execution_count": 3,
   "metadata": {
    "ExecuteTime": {
     "end_time": "2020-04-15T21:24:51.664979Z",
     "start_time": "2020-04-15T21:24:51.496430Z"
    },
    "scrolled": true
   },
   "outputs": [],
   "source": [
    "import pandas as pd\n",
    "import numpy as np\n",
    "\n",
    "import warnings\n",
    "warnings.filterwarnings('ignore')\n",
    "\n",
    "from sklearn.model_selection import train_test_split\n",
    "from sklearn.metrics import precision_score, recall_score, accuracy_score, f1_score\n",
    "from sklearn.metrics import roc_curve, plot_roc_curve, auc, roc_auc_score\n",
    "from sklearn.metrics import plot_confusion_matrix\n",
    "from sklearn.metrics import confusion_matrix\n",
    "from sklearn.preprocessing import StandardScaler\n",
    "from sklearn.preprocessing import RobustScaler\n",
    "from sklearn.pipeline import Pipeline\n",
    "from sklearn.model_selection import GridSearchCV\n",
    "from sklearn.feature_selection import SelectFromModel\n",
    "\n",
    "import keras\n",
    "from keras.models import Sequential\n",
    "from keras.layers import Dense, Dropout\n",
    "from keras.wrappers.scikit_learn import KerasClassifier\n",
    "\n",
    "# import helper functions\n",
    "from helper import *"
   ]
  },
  {
   "cell_type": "markdown",
   "metadata": {},
   "source": [
    "The following code has been repeated from the main notebook and will not be ellaborated on in this notebook. "
   ]
  },
  {
   "cell_type": "code",
   "execution_count": 4,
   "metadata": {
    "ExecuteTime": {
     "end_time": "2020-04-15T21:24:57.372629Z",
     "start_time": "2020-04-15T21:24:54.703766Z"
    }
   },
   "outputs": [],
   "source": [
    "# import data\n",
    "df = pd.read_csv('kddcup99_csv.csv')\n",
    "\n",
    "# create target columns (1s and 0s)\n",
    "df['target'] = df['label'].apply(lambda x: 0 if x=='normal' else 1)\n",
    "\n",
    "# create modeling dataframes\n",
    "target = df['target']\n",
    "features = df.drop(['target', 'label'], axis=1)\n",
    "\n",
    "# one hot encode\n",
    "features = pd.get_dummies(features, drop_first=True)\n",
    "\n",
    "# split dataset\n",
    "X_train, X_val, y_train, y_val = train_test_split(features, target, test_size=0.25, random_state=42)"
   ]
  },
  {
   "cell_type": "markdown",
   "metadata": {
    "ExecuteTime": {
     "end_time": "2020-04-15T15:32:27.998963Z",
     "start_time": "2020-04-15T15:32:27.995963Z"
    }
   },
   "source": [
    "## Baseline Artificial Neural Network"
   ]
  },
  {
   "cell_type": "markdown",
   "metadata": {},
   "source": [
    "To assist with convergence we will scale our training and test data. "
   ]
  },
  {
   "cell_type": "code",
   "execution_count": 5,
   "metadata": {
    "ExecuteTime": {
     "end_time": "2020-04-15T21:25:01.506576Z",
     "start_time": "2020-04-15T21:24:59.525872Z"
    }
   },
   "outputs": [],
   "source": [
    "# initialize standardscaler\n",
    "sc = StandardScaler()\n",
    "\n",
    "# scale x train and x test separately to avoid data leakage\n",
    "X_train_scaled = sc.fit_transform(X_train)\n",
    "X_val_scaled = sc.fit_transform(X_val)"
   ]
  },
  {
   "cell_type": "markdown",
   "metadata": {},
   "source": [
    "We will now initialize our neural network. A few notes on our initial parameters are below.\n",
    "\n",
    "1. We choose sixty nodes for our hidden layer because, as a rule of thumb, a good place to start is to average the number of input nodes and output nodes.\n",
    "2. We will use a uniform initial weight distribution to help prevent vanishing gradient problem. Could also use normally distributed weights. \n",
    "3. For our hidden layer we will use a relu activation function, again to prevent the vanishing gradient issues associated with the sigmoid activation function. \n",
    "4. For the output layer, we will use a sigmoid function as this is a binary classification problem. \n",
    "5. We will choose Adam optimization for its performance and speed. \n",
    "6. For our loss function we will use cross entropy as this is standard for binary classification problems. \n",
    "7. We will limit our epochs to 100 to minimize training time. "
   ]
  },
  {
   "cell_type": "code",
   "execution_count": 6,
   "metadata": {
    "ExecuteTime": {
     "end_time": "2020-04-15T21:25:03.688742Z",
     "start_time": "2020-04-15T21:25:03.516203Z"
    }
   },
   "outputs": [],
   "source": [
    "# initialize ANN\n",
    "ann_clf = Sequential()\n",
    "\n",
    "# create input layer and hidden layer\n",
    "ann_clf.add(Dense(output_dim = 60, init = 'uniform', activation = 'relu', input_dim = 115))\n",
    "\n",
    "# we will add a second hidden layer; accuracy declined after about 10 epochs last time\n",
    "ann_clf.add(Dense(output_dim = 60, init = 'uniform', activation = 'relu'))\n",
    "\n",
    "# we will add one more hidden layer\n",
    "ann_clf.add(Dense(output_dim = 60, init = 'uniform', activation = 'relu'))\n",
    "\n",
    "# create the output layer\n",
    "ann_clf.add(Dense(output_dim = 1, init = 'uniform', activation = 'sigmoid'))"
   ]
  },
  {
   "cell_type": "code",
   "execution_count": 7,
   "metadata": {
    "ExecuteTime": {
     "end_time": "2020-04-15T21:25:51.890866Z",
     "start_time": "2020-04-15T21:25:05.736267Z"
    },
    "scrolled": true
   },
   "outputs": [
    {
     "name": "stdout",
     "output_type": "stream",
     "text": [
      "WARNING:tensorflow:From C:\\Users\\bjane\\Miniconda3\\envs\\learn-env\\lib\\site-packages\\tensorflow\\python\\ops\\nn_impl.py:180: add_dispatch_support.<locals>.wrapper (from tensorflow.python.ops.array_ops) is deprecated and will be removed in a future version.\n",
      "Instructions for updating:\n",
      "Use tf.where in 2.0, which has the same broadcast rule as np.where\n",
      "WARNING:tensorflow:From C:\\Users\\bjane\\Miniconda3\\envs\\learn-env\\lib\\site-packages\\keras\\backend\\tensorflow_backend.py:422: The name tf.global_variables is deprecated. Please use tf.compat.v1.global_variables instead.\n",
      "\n",
      "Epoch 1/1\n",
      "370515/370515 [==============================] - 46s 123us/step - loss: 0.0063 - accuracy: 0.9984\n"
     ]
    },
    {
     "data": {
      "text/plain": [
       "<keras.callbacks.callbacks.History at 0x25403a61828>"
      ]
     },
     "execution_count": 7,
     "metadata": {},
     "output_type": "execute_result"
    }
   ],
   "source": [
    "# assemble the ANN\n",
    "ann_clf.compile(optimizer = 'adam', loss = 'binary_crossentropy', metrics = ['accuracy'])\n",
    "\n",
    "# Fitting the ANN to the Training set\n",
    "ann_clf.fit(X_train_scaled, y_train, batch_size = 10, epochs = 10)"
   ]
  },
  {
   "cell_type": "code",
   "execution_count": 9,
   "metadata": {
    "ExecuteTime": {
     "end_time": "2020-04-15T21:26:40.109941Z",
     "start_time": "2020-04-15T21:26:33.775876Z"
    },
    "scrolled": true
   },
   "outputs": [
    {
     "name": "stdout",
     "output_type": "stream",
     "text": [
      "TRAINING SET METRICS\n",
      "--------------------------------------------------------------------------------------\n",
      "Baseline Neural Network Classifier Training Data Scores\n",
      "\n",
      "Recall Score: 99.958%\n",
      "Precision Score: 99.95%\n",
      "Accuracy Score: 99.926%\n",
      "F1 Score: 0.99954\n",
      "ROC AUC Score: 0.99876\n",
      "\n",
      "TESTING SET METRICS\n",
      "--------------------------------------------------------------------------------------\n",
      "Baseline Neural Network Classifier Testing Data Scores\n",
      "\n",
      "Recall Score: 99.939%\n",
      "Precision Score: 99.934%\n",
      "Accuracy Score: 99.898%\n",
      "F1 Score: 0.99937\n",
      "ROC AUC Score: 0.99835\n",
      "\n"
     ]
    }
   ],
   "source": [
    "binary_classification_evaluation(ann_clf, X_train_scaled, X_val_scaled, y_train, y_val, \n",
    "                                 name_of_estimator=\"Baseline Neural Network\",\n",
    "                                 cm_labels=['Normal', 'Attack'], is_ANN=True)"
   ]
  },
  {
   "cell_type": "code",
   "execution_count": null,
   "metadata": {},
   "outputs": [],
   "source": []
  }
 ],
 "metadata": {
  "kernelspec": {
   "display_name": "Python 3",
   "language": "python",
   "name": "python3"
  },
  "language_info": {
   "codemirror_mode": {
    "name": "ipython",
    "version": 3
   },
   "file_extension": ".py",
   "mimetype": "text/x-python",
   "name": "python",
   "nbconvert_exporter": "python",
   "pygments_lexer": "ipython3",
   "version": "3.6.9"
  },
  "toc": {
   "base_numbering": 1,
   "nav_menu": {},
   "number_sections": true,
   "sideBar": true,
   "skip_h1_title": false,
   "title_cell": "Table of Contents",
   "title_sidebar": "Contents",
   "toc_cell": false,
   "toc_position": {},
   "toc_section_display": true,
   "toc_window_display": false
  },
  "varInspector": {
   "cols": {
    "lenName": 16,
    "lenType": 16,
    "lenVar": 40
   },
   "kernels_config": {
    "python": {
     "delete_cmd_postfix": "",
     "delete_cmd_prefix": "del ",
     "library": "var_list.py",
     "varRefreshCmd": "print(var_dic_list())"
    },
    "r": {
     "delete_cmd_postfix": ") ",
     "delete_cmd_prefix": "rm(",
     "library": "var_list.r",
     "varRefreshCmd": "cat(var_dic_list()) "
    }
   },
   "types_to_exclude": [
    "module",
    "function",
    "builtin_function_or_method",
    "instance",
    "_Feature"
   ],
   "window_display": false
  }
 },
 "nbformat": 4,
 "nbformat_minor": 2
}
